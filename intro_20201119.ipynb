{
 "cells": [
  {
   "cell_type": "markdown",
   "metadata": {
    "slideshow": {
     "slide_type": "slide"
    }
   },
   "source": [
    "# introduction notes for 2020.11.19\n",
    "\n",
    "1. Thanksgiving holiday schedule\n",
    "1. remaining lecture, homework, and exam schedule"
   ]
  },
  {
   "cell_type": "markdown",
   "metadata": {
    "slideshow": {
     "slide_type": "subslide"
    }
   },
   "source": [
    "## Thanksgiving holiday schedule\n",
    "\n",
    "Next Thursday (2020.11.26) is Thanksgiving! I hope you all have a restful and safe Thanksgiving recess (2020.11.20 - 2020.11.29)\n",
    "\n",
    "+ there will be *no* lecture next week\n",
    "+ there will be *no* homework assignment that you should be working on over this break"
   ]
  },
  {
   "cell_type": "markdown",
   "metadata": {
    "slideshow": {
     "slide_type": "subslide"
    }
   },
   "source": [
    "## remaining lecture, homework, and exam schedule\n",
    "\n",
    "### lectures\n",
    "\n",
    "+ we have 2 remaining \"lecture days\" (today, 2020.11.19, and post-break, 2020.12.03)\n",
    "+ we have a few hours of recorded lectures to cover in that time period:\n",
    "    + the rest of the Deep Learning lecture (approx 2 hrs)\n",
    "    + the Hadoop lecture (approx 3.75 hrs)\n",
    "    + the Spark lecture (approx 1.5 hrs)\n",
    "+ we're all pretty good at math here, that's 7.25 hrs of material for 5 hrs of reserved class time -- that won't work\n",
    "+ personal suggestion for the priorities in these topics:\n",
    "    1. spark\n",
    "    1. deep learning pt b\n",
    "    1. hadoop pt a\n",
    "    1. hadoop pt b"
   ]
  },
  {
   "cell_type": "markdown",
   "metadata": {
    "slideshow": {
     "slide_type": "subslide"
    }
   },
   "source": [
    "### homeworks\n",
    "\n",
    "there are two remaining homework assignments\n",
    "\n",
    "+ first will be assigned today (2020.11.19) and due post-break (2020.12.04)\n",
    "    + will be roughly equivalent to past homework assignments\n",
    "+ second will be assigned on 2020.11.31 and due by study days (2020.12.08)\n",
    "    + will be smaller than past homework assignments (shorter period)\n",
    "    + note: will be assigned earlier than normal to guarantee you have time to see it before Ines' and my office hours"
   ]
  },
  {
   "cell_type": "markdown",
   "metadata": {
    "slideshow": {
     "slide_type": "subslide"
    }
   },
   "source": [
    "### exam\n",
    "\n",
    "the final exam will be made available by EOD on the final study day (2020.12.10), and will be due by EOD on the last exam day (2020.12.18).\n",
    "\n",
    "It will be very similar to the midterm -- effectively, a larger than usual homework assignment covering all of the material in the course to date."
   ]
  }
 ],
 "metadata": {
  "celltoolbar": "Slideshow",
  "kernelspec": {
   "display_name": "Python 3",
   "language": "python",
   "name": "python3"
  },
  "language_info": {
   "codemirror_mode": {
    "name": "ipython",
    "version": 3
   },
   "file_extension": ".py",
   "mimetype": "text/x-python",
   "name": "python",
   "nbconvert_exporter": "python",
   "pygments_lexer": "ipython3",
   "version": "3.7.3"
  },
  "toc": {
   "base_numbering": 1,
   "nav_menu": {},
   "number_sections": true,
   "sideBar": true,
   "skip_h1_title": false,
   "title_cell": "Table of Contents",
   "title_sidebar": "Contents",
   "toc_cell": false,
   "toc_position": {},
   "toc_section_display": true,
   "toc_window_display": false
  }
 },
 "nbformat": 4,
 "nbformat_minor": 2
}
